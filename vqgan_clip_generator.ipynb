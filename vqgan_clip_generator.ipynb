{
  "nbformat": 4,
  "nbformat_minor": 0,
  "metadata": {
    "colab": {
      "name": "vqgan_clip_generator.ipynb",
      "provenance": [],
      "collapsed_sections": [],
      "authorship_tag": "ABX9TyP0b8nlzfB4+ys4u7SBrjtQ",
      "include_colab_link": true
    },
    "kernelspec": {
      "name": "python3",
      "display_name": "Python 3"
    },
    "language_info": {
      "name": "python"
    }
  },
  "cells": [
    {
      "cell_type": "markdown",
      "metadata": {
        "id": "view-in-github",
        "colab_type": "text"
      },
      "source": [
        "<a href=\"https://colab.research.google.com/github/rkhamilton/vqgan-clip-generator/blob/main/vqgan_clip_generator.ipynb\" target=\"_parent\"><img src=\"https://colab.research.google.com/assets/colab-badge.svg\" alt=\"Open In Colab\"/></a>"
      ]
    },
    {
      "cell_type": "markdown",
      "metadata": {
        "id": "rDyBDEzug52I"
      },
      "source": [
        "# **VQGAN-CLIP_GENERATOR**\n",
        "An easily installable VQGAN+CLIP image generator with a focus on restyling (style transfer) existing videos.\n"
      ]
    },
    {
      "cell_type": "markdown",
      "metadata": {
        "id": "-l21qFq2hPou"
      },
      "source": [
        ""
      ]
    }
  ]
}